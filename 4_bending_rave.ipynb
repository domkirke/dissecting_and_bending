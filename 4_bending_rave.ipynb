{
 "cells": [
  {
   "cell_type": "markdown",
   "metadata": {},
   "source": [
    "# Bending a MNIST auto-encoder\n",
    "\n",
    "This notebook has be conceived to introduce you to the notion of *network bending*, and let you perform simple bending operations on a little image generative model, that is generally more intuitive than large audio models.\n",
    "\n",
    "## What is bending? \n",
    "\n",
    "The idea of *network bending*, first referenced by [Terence Broads](https://arxiv.org/pdf/2005.12420), is the equivalent of [circuit bending](https://fr.wikipedia.org/wiki/Circuit_bending) for neural network-based models : hijacking a model developed and designed for a purpose (here, the original task of the machine learning model) by the alteration of its inner circuiteries. You can also see that as opening a *modular* approach to machine learning, while this idea of *hijack* is still important and not naturally encompassed by modular synthesis. `torchbend` is a library designed originally to allow high-end functions for graph & parameter bending, allowing to generate data in a way that would not have been possible without these kind of alterations. This is why it can also be used for *dissection*, as being able to develop an understanding of how the model work is very important to not lose one's time perfoming alterations that would not have any sense, exactly like bending analogical devices. \n",
    "\n",
    "Ready to go? Let's bend this little image model "
   ]
  },
  {
   "cell_type": "code",
   "execution_count": null,
   "metadata": {},
   "outputs": [],
   "source": []
  }
 ],
 "metadata": {
  "kernelspec": {
   "display_name": "ml2",
   "language": "python",
   "name": "python3"
  },
  "language_info": {
   "codemirror_mode": {
    "name": "ipython",
    "version": 3
   },
   "file_extension": ".py",
   "mimetype": "text/x-python",
   "name": "python",
   "nbconvert_exporter": "python",
   "pygments_lexer": "ipython3",
   "version": "3.11.7"
  }
 },
 "nbformat": 4,
 "nbformat_minor": 2
}
